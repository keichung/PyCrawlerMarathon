{
 "cells": [
  {
   "cell_type": "markdown",
   "metadata": {},
   "source": [
    "# 資料來源與檔案存取\n",
    "\n",
    "* 資料來源與取得\n",
    "* 開放資料\n",
    "* 資料儲存格式\n",
    "* Python 存取檔案"
   ]
  },
  {
   "cell_type": "markdown",
   "metadata": {},
   "source": [
    "## 作業目標\n",
    "\n",
    "* 1.（簡答題）檔案、API、爬蟲三種取得資料方式有什麼不同？\n",
    "* 2.（實作）完成一個程式，需滿足下列需求：\n",
    "    * 下載指定檔案到 Data 資料夾，存成檔名 Homework.txt\n",
    "    * 檢查 Data 資料夾是否有 Homework.txt 檔名之檔案\n",
    "    * 將「Hello World」字串覆寫到 Homework.txt 檔案\n",
    "    * 檢查 Homework.txt 檔案字數是否符合 Hello World 字數\n"
   ]
  },
  {
   "cell_type": "markdown",
   "metadata": {},
   "source": [
    "### 1.（簡答題）檔案、API、爬蟲三種取得資料方式有什麼不同？\n",
    "\n",
    "* 檔案：資料會包成檔案提供下載，格式可能包含「CSV」、「JSON」等等通用的格式(主動提供)\n",
    "* API：提供程式化的連接的接口，讓工程師/分析師可以選擇資料中要讀取的特定部分，而不需要把整批資料事先完整下載回來(主動提供)\n",
    "* 爬蟲：資料不以檔案或 API 提供，但出現在網頁上。可利用爬蟲程式，將網頁的資料解析所需的部分(被動提供)"
   ]
  },
  {
   "cell_type": "markdown",
   "metadata": {},
   "source": [
    "### 2.（實作）完成一個程式，需滿足下列需求：\n",
    "    * 下載指定檔案到 Data 資料夾，存成檔名 Homework.txt\n",
    "    * 檢查 Data 資料夾是否有 Homework.txt 檔名之檔案\n",
    "    * 將「Hello World」字串覆寫到 Homework.txt 檔案\n",
    "    * 檢查 Homework.txt 檔案字數是否符合 Hello World 字數\n"
   ]
  },
  {
   "cell_type": "code",
   "execution_count": 7,
   "metadata": {},
   "outputs": [],
   "source": [
    "# 根據需求引入正確的 Library\n",
    "\n",
    "from urllib.request import urlretrieve\n",
    "import os"
   ]
  },
  {
   "cell_type": "code",
   "execution_count": 11,
   "metadata": {},
   "outputs": [],
   "source": [
    "# 下載檔案到 Data 資料夾，存成檔名 Homework.txt\n",
    "\n",
    "try:\n",
    "    os.makedirs( './Data', exist_ok=True )\n",
    "    urlretrieve(\"https://www.w3.org/TR/PNG/iso_8859-1.txt\",\"Homework.txt\")\n",
    "    \n",
    "except:\n",
    "    print('發生錯誤！')"
   ]
  },
  {
   "cell_type": "code",
   "execution_count": 12,
   "metadata": {},
   "outputs": [
    {
     "name": "stdout",
     "output_type": "stream",
     "text": [
      ".anaconda\n",
      ".android\n",
      ".conda\n",
      ".condarc\n",
      ".gitconfig\n",
      ".idlerc\n",
      ".ipynb_checkpoints\n",
      ".ipython\n",
      ".jupyter\n",
      ".LINE\n",
      ".matplotlib\n",
      ".openshot_qt\n",
      ".oracle_jre_usage\n",
      ".pylint.d\n",
      ".QtWebEngineProcess\n",
      ".spyder-py3\n",
      ".vscode\n",
      "3D Objects\n",
      "Anaconda3\n",
      "AppData\n",
      "Application Data\n",
      "Contacts\n",
      "Cookies\n",
      "Data\n",
      "Day001_HW.ipynb\n",
      "Desktop\n",
      "Documents\n",
      "Downloads\n",
      "Favorites\n",
      "Homework.txt\n",
      "inittk.ini\n",
      "inst.ini\n",
      "IntelGraphicsProfiles\n",
      "Links\n",
      "Local Settings\n",
      "MicrosoftEdgeBackups\n",
      "Music\n",
      "My Documents\n",
      "NetHood\n",
      "Nox_share\n",
      "NTUSER.DAT\n",
      "ntuser.dat.LOG1\n",
      "ntuser.dat.LOG2\n",
      "NTUSER.DAT{bd465913-deff-11e9-b363-a49afc5e8302}.TM.blf\n",
      "NTUSER.DAT{bd465913-deff-11e9-b363-a49afc5e8302}.TMContainer00000000000000000001.regtrans-ms\n",
      "NTUSER.DAT{bd465913-deff-11e9-b363-a49afc5e8302}.TMContainer00000000000000000002.regtrans-ms\n",
      "ntuser.ini\n",
      "nuuid.ini\n",
      "OneDrive\n",
      "PicStream\n",
      "Pictures\n",
      "PrintHood\n",
      "Recent\n",
      "Saved Games\n",
      "Searches\n",
      "SendTo\n",
      "Templates\n",
      "Videos\n",
      "vmlogs\n",
      "「開始」功能表\n",
      "[O] 檢查 Data 資料夾是否有 Homework.txt 檔名之檔案\n"
     ]
    }
   ],
   "source": [
    "# 檢查 Data 資料夾是否有 Homework.txt 檔名之檔案\n",
    "\n",
    "files = []\n",
    "\n",
    "files = os.listdir( './' )\n",
    "for file in files:\n",
    "    print(file)\n",
    "\n",
    "if 'Homework.txt' in files:\n",
    "    print('[O] 檢查 Data 資料夾是否有 Homework.txt 檔名之檔案')\n",
    "else:\n",
    "    print('[X] 檢查 Data 資料夾是否有 Homework.txt 檔名之檔案')"
   ]
  },
  {
   "cell_type": "code",
   "execution_count": 30,
   "metadata": {},
   "outputs": [],
   "source": [
    "# 將「Hello World」字串覆寫到 Homework.txt 檔案\n",
    "\n",
    "f = ''\n",
    "\n",
    "with open(\"./Data/Homework.txt\", \"w\") as fh:\n",
    "    fh.write(\"Hello World\")\n",
    "    \n",
    "try:\n",
    "    with open(\"./Data/Homework.txt\", \"r\") as fh:\n",
    "        f = fh.read()\n",
    "        \n",
    "except EnvironmentError: # parent of IOError, OSError *and* WindowsError where available\n",
    "    pass    \n",
    "    \n"
   ]
  },
  {
   "cell_type": "code",
   "execution_count": 31,
   "metadata": {
    "scrolled": true
   },
   "outputs": [
    {
     "name": "stdout",
     "output_type": "stream",
     "text": [
      "[O] 檢查 Homework.txt 檔案字數是否符合 Hello World 字數\n"
     ]
    }
   ],
   "source": [
    "# 檢查 Homework.txt 檔案字數是否符合 Hello World 字數\n",
    "\n",
    "if len('Hello World') == len(f):\n",
    "    print('[O] 檢查 Homework.txt 檔案字數是否符合 Hello World 字數')\n",
    "else:\n",
    "    print('[X] 檢查 Homework.txt 檔案字數是否符合 Hello World 字數')"
   ]
  },
  {
   "cell_type": "code",
   "execution_count": null,
   "metadata": {},
   "outputs": [],
   "source": []
  },
  {
   "cell_type": "code",
   "execution_count": null,
   "metadata": {},
   "outputs": [],
   "source": []
  },
  {
   "cell_type": "code",
   "execution_count": null,
   "metadata": {},
   "outputs": [],
   "source": []
  }
 ],
 "metadata": {
  "kernelspec": {
   "display_name": "Python 3",
   "language": "python",
   "name": "python3"
  },
  "language_info": {
   "codemirror_mode": {
    "name": "ipython",
    "version": 3
   },
   "file_extension": ".py",
   "mimetype": "text/x-python",
   "name": "python",
   "nbconvert_exporter": "python",
   "pygments_lexer": "ipython3",
   "version": "3.6.5"
  }
 },
 "nbformat": 4,
 "nbformat_minor": 2
}
